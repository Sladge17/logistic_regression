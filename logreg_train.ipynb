{
 "metadata": {
  "language_info": {
   "codemirror_mode": {
    "name": "ipython",
    "version": 3
   },
   "file_extension": ".py",
   "mimetype": "text/x-python",
   "name": "python",
   "nbconvert_exporter": "python",
   "pygments_lexer": "ipython3",
   "version": "3.6.1"
  },
  "orig_nbformat": 2,
  "kernelspec": {
   "name": "python3",
   "display_name": "Python 3.6.1 64-bit",
   "metadata": {
    "interpreter": {
     "hash": "62a8557e26fd3e77f1a997c1a3c8e7f8212c29997f7c85da328039869bcdb579"
    }
   }
  }
 },
 "nbformat": 4,
 "nbformat_minor": 2,
 "cells": [
  {
   "cell_type": "code",
   "execution_count": 1,
   "metadata": {},
   "outputs": [],
   "source": [
    "import numpy as np\n",
    "import pandas as pd\n",
    "import matplotlib.pyplot as plt"
   ]
  },
  {
   "cell_type": "code",
   "execution_count": 3,
   "metadata": {},
   "outputs": [
    {
     "output_type": "execute_result",
     "data": {
      "text/plain": [
       "  Hogwarts House  Herbology  Defense Against the Dark Arts  Divination  \\\n",
       "0      Ravenclaw   5.727180                       4.878861       4.722   \n",
       "1      Slytherin  -5.987446                       5.520605      -5.612   \n",
       "2      Ravenclaw   7.725017                       3.660761       6.140   \n",
       "3     Gryffindor  -6.497214                      -6.977428       4.026   \n",
       "4     Gryffindor  -7.820623                            NaN       2.236   \n",
       "\n",
       "   Muggle Studies  Ancient Runes  History of Magic  Transfiguration  \\\n",
       "0      272.035831     532.484226          5.231058      1039.788281   \n",
       "1     -487.340557     367.760303          4.107170      1058.944592   \n",
       "2      664.893521     602.585284          3.555579      1088.088348   \n",
       "3     -537.001128     523.982133         -4.809637       920.391449   \n",
       "4     -444.262537     599.324514         -3.444377       937.434724   \n",
       "\n",
       "   Care of Magical Creatures     Charms  Flying  \n",
       "0                   0.715939 -232.79405  -26.89  \n",
       "1                   0.091674 -252.18425 -113.45  \n",
       "2                  -0.515327 -227.34265   30.42  \n",
       "3                  -0.014040 -256.84675  200.64  \n",
       "4                  -0.264070 -256.38730  157.98  "
      ],
      "text/html": "<div>\n<style>\n    .dataframe thead tr:only-child th {\n        text-align: right;\n    }\n\n    .dataframe thead th {\n        text-align: left;\n    }\n\n    .dataframe tbody tr th {\n        vertical-align: top;\n    }\n</style>\n<table border=\"1\" class=\"dataframe\">\n  <thead>\n    <tr style=\"text-align: right;\">\n      <th></th>\n      <th>Hogwarts House</th>\n      <th>Herbology</th>\n      <th>Defense Against the Dark Arts</th>\n      <th>Divination</th>\n      <th>Muggle Studies</th>\n      <th>Ancient Runes</th>\n      <th>History of Magic</th>\n      <th>Transfiguration</th>\n      <th>Care of Magical Creatures</th>\n      <th>Charms</th>\n      <th>Flying</th>\n    </tr>\n  </thead>\n  <tbody>\n    <tr>\n      <th>0</th>\n      <td>Ravenclaw</td>\n      <td>5.727180</td>\n      <td>4.878861</td>\n      <td>4.722</td>\n      <td>272.035831</td>\n      <td>532.484226</td>\n      <td>5.231058</td>\n      <td>1039.788281</td>\n      <td>0.715939</td>\n      <td>-232.79405</td>\n      <td>-26.89</td>\n    </tr>\n    <tr>\n      <th>1</th>\n      <td>Slytherin</td>\n      <td>-5.987446</td>\n      <td>5.520605</td>\n      <td>-5.612</td>\n      <td>-487.340557</td>\n      <td>367.760303</td>\n      <td>4.107170</td>\n      <td>1058.944592</td>\n      <td>0.091674</td>\n      <td>-252.18425</td>\n      <td>-113.45</td>\n    </tr>\n    <tr>\n      <th>2</th>\n      <td>Ravenclaw</td>\n      <td>7.725017</td>\n      <td>3.660761</td>\n      <td>6.140</td>\n      <td>664.893521</td>\n      <td>602.585284</td>\n      <td>3.555579</td>\n      <td>1088.088348</td>\n      <td>-0.515327</td>\n      <td>-227.34265</td>\n      <td>30.42</td>\n    </tr>\n    <tr>\n      <th>3</th>\n      <td>Gryffindor</td>\n      <td>-6.497214</td>\n      <td>-6.977428</td>\n      <td>4.026</td>\n      <td>-537.001128</td>\n      <td>523.982133</td>\n      <td>-4.809637</td>\n      <td>920.391449</td>\n      <td>-0.014040</td>\n      <td>-256.84675</td>\n      <td>200.64</td>\n    </tr>\n    <tr>\n      <th>4</th>\n      <td>Gryffindor</td>\n      <td>-7.820623</td>\n      <td>NaN</td>\n      <td>2.236</td>\n      <td>-444.262537</td>\n      <td>599.324514</td>\n      <td>-3.444377</td>\n      <td>937.434724</td>\n      <td>-0.264070</td>\n      <td>-256.38730</td>\n      <td>157.98</td>\n    </tr>\n  </tbody>\n</table>\n</div>"
     },
     "metadata": {},
     "execution_count": 3
    }
   ],
   "source": [
    "df_train = pd.read_csv('datasets/dataset_train.csv')[['Hogwarts House', 'Herbology', 'Defense Against the Dark Arts',\n",
    "       'Divination', 'Muggle Studies', 'Ancient Runes', 'History of Magic',\n",
    "       'Transfiguration', 'Care of Magical Creatures', 'Charms', 'Flying']]\n",
    "df_train.head()"
   ]
  },
  {
   "cell_type": "code",
   "execution_count": null,
   "metadata": {},
   "outputs": [],
   "source": []
  }
 ]
}