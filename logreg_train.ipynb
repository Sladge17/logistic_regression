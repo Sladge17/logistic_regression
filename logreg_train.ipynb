{
 "metadata": {
  "language_info": {
   "codemirror_mode": {
    "name": "ipython",
    "version": 3
   },
   "file_extension": ".py",
   "mimetype": "text/x-python",
   "name": "python",
   "nbconvert_exporter": "python",
   "pygments_lexer": "ipython3",
   "version": "3.6.1"
  },
  "orig_nbformat": 2,
  "kernelspec": {
   "name": "python3",
   "display_name": "Python 3.6.1 64-bit",
   "metadata": {
    "interpreter": {
     "hash": "62a8557e26fd3e77f1a997c1a3c8e7f8212c29997f7c85da328039869bcdb579"
    }
   }
  }
 },
 "nbformat": 4,
 "nbformat_minor": 2,
 "cells": [
  {
   "cell_type": "code",
   "execution_count": 304,
   "metadata": {},
   "outputs": [],
   "source": [
    "import numpy as np\n",
    "import pandas as pd\n",
    "import matplotlib.pyplot as plt"
   ]
  },
  {
   "cell_type": "code",
   "execution_count": 305,
   "metadata": {},
   "outputs": [
    {
     "output_type": "execute_result",
     "data": {
      "text/plain": [
       "  Hogwarts House  Herbology  Defense Against the Dark Arts  Divination  \\\n",
       "0      Ravenclaw   5.727180                       4.878861       4.722   \n",
       "1      Slytherin  -5.987446                       5.520605      -5.612   \n",
       "2      Ravenclaw   7.725017                       3.660761       6.140   \n",
       "3     Gryffindor  -6.497214                      -6.977428       4.026   \n",
       "4     Gryffindor  -7.820623                            NaN       2.236   \n",
       "\n",
       "   Muggle Studies  Ancient Runes  History of Magic  Transfiguration  \\\n",
       "0      272.035831     532.484226          5.231058      1039.788281   \n",
       "1     -487.340557     367.760303          4.107170      1058.944592   \n",
       "2      664.893521     602.585284          3.555579      1088.088348   \n",
       "3     -537.001128     523.982133         -4.809637       920.391449   \n",
       "4     -444.262537     599.324514         -3.444377       937.434724   \n",
       "\n",
       "   Care of Magical Creatures     Charms  Flying  \n",
       "0                   0.715939 -232.79405  -26.89  \n",
       "1                   0.091674 -252.18425 -113.45  \n",
       "2                  -0.515327 -227.34265   30.42  \n",
       "3                  -0.014040 -256.84675  200.64  \n",
       "4                  -0.264070 -256.38730  157.98  "
      ],
      "text/html": "<div>\n<style>\n    .dataframe thead tr:only-child th {\n        text-align: right;\n    }\n\n    .dataframe thead th {\n        text-align: left;\n    }\n\n    .dataframe tbody tr th {\n        vertical-align: top;\n    }\n</style>\n<table border=\"1\" class=\"dataframe\">\n  <thead>\n    <tr style=\"text-align: right;\">\n      <th></th>\n      <th>Hogwarts House</th>\n      <th>Herbology</th>\n      <th>Defense Against the Dark Arts</th>\n      <th>Divination</th>\n      <th>Muggle Studies</th>\n      <th>Ancient Runes</th>\n      <th>History of Magic</th>\n      <th>Transfiguration</th>\n      <th>Care of Magical Creatures</th>\n      <th>Charms</th>\n      <th>Flying</th>\n    </tr>\n  </thead>\n  <tbody>\n    <tr>\n      <th>0</th>\n      <td>Ravenclaw</td>\n      <td>5.727180</td>\n      <td>4.878861</td>\n      <td>4.722</td>\n      <td>272.035831</td>\n      <td>532.484226</td>\n      <td>5.231058</td>\n      <td>1039.788281</td>\n      <td>0.715939</td>\n      <td>-232.79405</td>\n      <td>-26.89</td>\n    </tr>\n    <tr>\n      <th>1</th>\n      <td>Slytherin</td>\n      <td>-5.987446</td>\n      <td>5.520605</td>\n      <td>-5.612</td>\n      <td>-487.340557</td>\n      <td>367.760303</td>\n      <td>4.107170</td>\n      <td>1058.944592</td>\n      <td>0.091674</td>\n      <td>-252.18425</td>\n      <td>-113.45</td>\n    </tr>\n    <tr>\n      <th>2</th>\n      <td>Ravenclaw</td>\n      <td>7.725017</td>\n      <td>3.660761</td>\n      <td>6.140</td>\n      <td>664.893521</td>\n      <td>602.585284</td>\n      <td>3.555579</td>\n      <td>1088.088348</td>\n      <td>-0.515327</td>\n      <td>-227.34265</td>\n      <td>30.42</td>\n    </tr>\n    <tr>\n      <th>3</th>\n      <td>Gryffindor</td>\n      <td>-6.497214</td>\n      <td>-6.977428</td>\n      <td>4.026</td>\n      <td>-537.001128</td>\n      <td>523.982133</td>\n      <td>-4.809637</td>\n      <td>920.391449</td>\n      <td>-0.014040</td>\n      <td>-256.84675</td>\n      <td>200.64</td>\n    </tr>\n    <tr>\n      <th>4</th>\n      <td>Gryffindor</td>\n      <td>-7.820623</td>\n      <td>NaN</td>\n      <td>2.236</td>\n      <td>-444.262537</td>\n      <td>599.324514</td>\n      <td>-3.444377</td>\n      <td>937.434724</td>\n      <td>-0.264070</td>\n      <td>-256.38730</td>\n      <td>157.98</td>\n    </tr>\n  </tbody>\n</table>\n</div>"
     },
     "metadata": {},
     "execution_count": 305
    }
   ],
   "source": [
    "df = pd.read_csv('datasets/dataset_train.csv')[['Hogwarts House', 'Herbology', 'Defense Against the Dark Arts',\n",
    "       'Divination', 'Muggle Studies', 'Ancient Runes', 'History of Magic',\n",
    "       'Transfiguration', 'Care of Magical Creatures', 'Charms', 'Flying']]\n",
    "df.head()"
   ]
  },
  {
   "cell_type": "code",
   "execution_count": 306,
   "metadata": {},
   "outputs": [
    {
     "output_type": "execute_result",
     "data": {
      "text/plain": [
       "  Hogwarts House  Muggle Studies     Charms  Divination  Flying  \\\n",
       "0      Ravenclaw      272.035831 -232.79405       4.722  -26.89   \n",
       "1      Slytherin     -487.340557 -252.18425      -5.612 -113.45   \n",
       "2      Ravenclaw      664.893521 -227.34265       6.140   30.42   \n",
       "3     Gryffindor     -537.001128 -256.84675       4.026  200.64   \n",
       "4     Gryffindor     -444.262537 -256.38730       2.236  157.98   \n",
       "\n",
       "   History of Magic  Transfiguration  \n",
       "0          5.231058      1039.788281  \n",
       "1          4.107170      1058.944592  \n",
       "2          3.555579      1088.088348  \n",
       "3         -4.809637       920.391449  \n",
       "4         -3.444377       937.434724  "
      ],
      "text/html": "<div>\n<style>\n    .dataframe thead tr:only-child th {\n        text-align: right;\n    }\n\n    .dataframe thead th {\n        text-align: left;\n    }\n\n    .dataframe tbody tr th {\n        vertical-align: top;\n    }\n</style>\n<table border=\"1\" class=\"dataframe\">\n  <thead>\n    <tr style=\"text-align: right;\">\n      <th></th>\n      <th>Hogwarts House</th>\n      <th>Muggle Studies</th>\n      <th>Charms</th>\n      <th>Divination</th>\n      <th>Flying</th>\n      <th>History of Magic</th>\n      <th>Transfiguration</th>\n    </tr>\n  </thead>\n  <tbody>\n    <tr>\n      <th>0</th>\n      <td>Ravenclaw</td>\n      <td>272.035831</td>\n      <td>-232.79405</td>\n      <td>4.722</td>\n      <td>-26.89</td>\n      <td>5.231058</td>\n      <td>1039.788281</td>\n    </tr>\n    <tr>\n      <th>1</th>\n      <td>Slytherin</td>\n      <td>-487.340557</td>\n      <td>-252.18425</td>\n      <td>-5.612</td>\n      <td>-113.45</td>\n      <td>4.107170</td>\n      <td>1058.944592</td>\n    </tr>\n    <tr>\n      <th>2</th>\n      <td>Ravenclaw</td>\n      <td>664.893521</td>\n      <td>-227.34265</td>\n      <td>6.140</td>\n      <td>30.42</td>\n      <td>3.555579</td>\n      <td>1088.088348</td>\n    </tr>\n    <tr>\n      <th>3</th>\n      <td>Gryffindor</td>\n      <td>-537.001128</td>\n      <td>-256.84675</td>\n      <td>4.026</td>\n      <td>200.64</td>\n      <td>-4.809637</td>\n      <td>920.391449</td>\n    </tr>\n    <tr>\n      <th>4</th>\n      <td>Gryffindor</td>\n      <td>-444.262537</td>\n      <td>-256.38730</td>\n      <td>2.236</td>\n      <td>157.98</td>\n      <td>-3.444377</td>\n      <td>937.434724</td>\n    </tr>\n  </tbody>\n</table>\n</div>"
     },
     "metadata": {},
     "execution_count": 306
    }
   ],
   "source": [
    "# for train: Ravenclaw -> Slytherin -> Gryffindor\n",
    "target = np.array(['Ravenclaw', 'Slytherin', 'Gryffindor'])\n",
    "df = df[['Hogwarts House', 'Muggle Studies', 'Charms', 'Divination', 'Flying', 'History of Magic', 'Transfiguration']]\n",
    "df.head()"
   ]
  },
  {
   "cell_type": "code",
   "execution_count": 307,
   "metadata": {},
   "outputs": [
    {
     "output_type": "execute_result",
     "data": {
      "text/plain": [
       "1600"
      ]
     },
     "metadata": {},
     "execution_count": 307
    }
   ],
   "source": [
    "df.shape[0]"
   ]
  },
  {
   "cell_type": "code",
   "execution_count": 308,
   "metadata": {},
   "outputs": [
    {
     "output_type": "execute_result",
     "data": {
      "text/plain": [
       "148"
      ]
     },
     "metadata": {},
     "execution_count": 308
    }
   ],
   "source": [
    "df.shape[0] - df.dropna().shape[0]"
   ]
  },
  {
   "cell_type": "code",
   "execution_count": 309,
   "metadata": {},
   "outputs": [],
   "source": [
    "df = df.dropna()"
   ]
  },
  {
   "cell_type": "code",
   "execution_count": 310,
   "metadata": {},
   "outputs": [
    {
     "output_type": "execute_result",
     "data": {
      "text/plain": [
       "(1452, 7)"
      ]
     },
     "metadata": {},
     "execution_count": 310
    }
   ],
   "source": [
    "df.shape"
   ]
  },
  {
   "cell_type": "code",
   "execution_count": 311,
   "metadata": {},
   "outputs": [],
   "source": [
    "# div = 0.9\n",
    "# df_test = df.iloc[int(df.shape[0] * div):]\n",
    "# df = df.iloc[:int(df.shape[0] * div)]\n",
    "# df.shape"
   ]
  },
  {
   "cell_type": "code",
   "execution_count": 312,
   "metadata": {},
   "outputs": [],
   "source": [
    "def get_minmax(x):\n",
    "    x_minmax = np.zeros([x.shape[1], 2], np.float32)\n",
    "    for i in range(x.shape[1]):\n",
    "        x_minmax[i] = [x[:, i].min(), x[:, i].max()]\n",
    "    return x_minmax\n",
    "\n",
    "def normalization(target, val_min, val_max):\n",
    "    return (target - val_min) / (val_max - val_min)\n",
    "\n",
    "def set_xnorm(x, x_minmax):\n",
    "    for i in range(x.shape[1]):\n",
    "        x[:, i] = normalization(x[:, i], *x_minmax[i])\n",
    "\n",
    "y = df.values[:, 0]\n",
    "x = df.values[:, 1:].astype(np.float32)\n",
    "x_minmax = get_minmax(x)\n",
    "set_xnorm(x, x_minmax)\n",
    "bias = np.ones((x.shape[0], 1))\n",
    "x = np.concatenate((x, bias), 1)"
   ]
  },
  {
   "cell_type": "code",
   "execution_count": 313,
   "metadata": {},
   "outputs": [],
   "source": [
    "def sigmoid(predict):\n",
    "    sigmoid = 1 / (1 + np.exp(-predict))\n",
    "    return sigmoid\n",
    "\n",
    "def loss_log(predict, target):\n",
    "    loss_log = -np.mean(target * np.log(predict) +\n",
    "                        (1 - target) * np.log(1 - predict))\n",
    "    return loss_log\n",
    "\n",
    "def get_vecpredict(x, weight, i):\n",
    "    predict = sigmoid(np.concatenate([x[:, (i * 2):(i * 2 + 2)],\n",
    "                                        x[:, -1].reshape(-1, 1)],\n",
    "                                        axis=1) @\\\n",
    "                        weight[(i * 3):(i * 3 + 3)])\n",
    "    return predict\n",
    "\n",
    "# def get_vectarget(y, target):\n",
    "#     target =  np.array(list(map(lambda x: 1 if x == target else 0, y)))\n",
    "#     return target\n",
    "\n",
    "def get_bintarget(x, y, target):\n",
    "    y_bin = np.zeros([target.size, y.size], np.int8)\n",
    "    for i in range(y_bin.shape[0]):\n",
    "        y_bin[i] = list(map(lambda x: 1 if x == target[i] else 0, y))\n",
    "    return y_bin\n",
    "\n",
    "\n",
    "# def set_errorepoch(error, epoch, x, weight, y, target):\n",
    "def set_errorepoch(error, epoch, x, weight, y_bin, target):\n",
    "    # for i in range(3):\n",
    "    # for i in range(len(target)):\n",
    "    for i in range(target.size):\n",
    "        # error[epoch][i] = loss_log(get_vecpredict(x, weight, i),\n",
    "        #                             get_vectarget(y, target[i]))\n",
    "        error[epoch][i] = loss_log(get_vecpredict(x, weight, i),\n",
    "                                    y_bin[i])\n",
    "\n"
   ]
  },
  {
   "cell_type": "code",
   "execution_count": 314,
   "metadata": {
    "tags": []
   },
   "outputs": [],
   "source": [
    "def predict_error(predict, y, i, target):\n",
    "    error = predict - int(y[i] == target)\n",
    "    return error\n",
    "\n",
    "def sigmoid_derivative(predict):\n",
    "    derivative = predict * (1 - predict)\n",
    "    return derivative\n",
    "\n",
    "def feature_slice(x, i, j):\n",
    "    slc = np.concatenate([x[i][(j * 2):(j * 2 + 2)],\n",
    "                        [x[i][-1]]])\n",
    "    return slc\n",
    "\n",
    "def get_housepredict(x, weight, i, j):\n",
    "    predict = sigmoid(np.concatenate([x[i][(j * 2):(j * 2 + 2)],\n",
    "                                    [1]]) @ weight[(j * 3):(j * 3 + 3)])\n",
    "    return predict\n",
    "\n",
    "def fill_delta(delta, x, weight, y, i, target):\n",
    "    for j in range(target.size):\n",
    "        predict = get_housepredict(x, weight, i, j)\n",
    "        delta[(j * 3):(j * 3 + 3)] += predict_error(predict, y,\n",
    "                                                    i, target[j]) *\\\n",
    "                                        sigmoid_derivative(predict) *\\\n",
    "                                        feature_slice(x, i, j)\n",
    "\n",
    "\n",
    "def learning_nn(x, y, target, epochs, alpha):\n",
    "    weight = np.random.random(x.shape[1] + target.size - 1)\n",
    "    delta = np.zeros(weight.size, np.float32)\n",
    "    error = np.zeros([epochs, 3], np.float32)\n",
    "    y_bin = get_bintarget(x, y, target)\n",
    "    for epoch in range(epochs):\n",
    "        # set_errorepoch(error, epoch, x, weight, y, target)\n",
    "        set_errorepoch(error, epoch, x, weight, y_bin, target)\n",
    "        ## need change for one calculation vectarget\n",
    "\n",
    "        for i in range(x.shape[0]):\n",
    "            fill_delta(delta, x, weight, y, i, target)\n",
    "        weight -= delta * alpha\n",
    "        delta[:] = 0\n",
    "    return weight, error\n",
    "\n",
    "epochs = 200\n",
    "alpha = 0.01\n",
    "# batch = 500\n",
    "weight, error = learning_nn(x, y, target, epochs, alpha)\n"
   ]
  },
  {
   "cell_type": "code",
   "execution_count": 315,
   "metadata": {},
   "outputs": [
    {
     "output_type": "display_data",
     "data": {
      "text/plain": "<matplotlib.figure.Figure at 0x252993eb048>",
      "image/svg+xml": "<?xml version=\"1.0\" encoding=\"utf-8\" standalone=\"no\"?>\r\n<!DOCTYPE svg PUBLIC \"-//W3C//DTD SVG 1.1//EN\"\r\n  \"http://www.w3.org/Graphics/SVG/1.1/DTD/svg11.dtd\">\r\n<!-- Created with matplotlib (http://matplotlib.org/) -->\r\n<svg height=\"265pt\" version=\"1.1\" viewBox=\"0 0 389 265\" width=\"389pt\" xmlns=\"http://www.w3.org/2000/svg\" xmlns:xlink=\"http://www.w3.org/1999/xlink\">\r\n <defs>\r\n  <style type=\"text/css\">\r\n*{stroke-linecap:butt;stroke-linejoin:round;}\r\n  </style>\r\n </defs>\r\n <g id=\"figure_1\">\r\n  <g id=\"patch_1\">\r\n   <path d=\"M 0 265.69625 \r\nL 389.28125 265.69625 \r\nL 389.28125 0 \r\nL 0 0 \r\nz\r\n\" style=\"fill:none;\"/>\r\n  </g>\r\n  <g id=\"axes_1\">\r\n   <g id=\"patch_2\">\r\n    <path d=\"M 43.78125 228.14 \r\nL 378.58125 228.14 \r\nL 378.58125 10.7 \r\nL 43.78125 10.7 \r\nz\r\n\" style=\"fill:#ffffff;\"/>\r\n   </g>\r\n   <g id=\"matplotlib.axis_1\">\r\n    <g id=\"xtick_1\">\r\n     <g id=\"line2d_1\">\r\n      <path clip-path=\"url(#pa872275dba)\" d=\"M 58.999432 228.14 \r\nL 58.999432 10.7 \r\n\" style=\"fill:none;stroke:#b0b0b0;stroke-linecap:square;stroke-width:0.8;\"/>\r\n     </g>\r\n     <g id=\"line2d_2\">\r\n      <defs>\r\n       <path d=\"M 0 0 \r\nL 0 3.5 \r\n\" id=\"m73b603dad3\" style=\"stroke:#000000;stroke-width:0.8;\"/>\r\n      </defs>\r\n      <g>\r\n       <use style=\"stroke:#000000;stroke-width:0.8;\" x=\"58.999432\" xlink:href=\"#m73b603dad3\" y=\"228.14\"/>\r\n      </g>\r\n     </g>\r\n     <g id=\"text_1\">\r\n      <!-- 0 -->\r\n      <defs>\r\n       <path d=\"M 31.78125 66.40625 \r\nQ 24.171875 66.40625 20.328125 58.90625 \r\nQ 16.5 51.421875 16.5 36.375 \r\nQ 16.5 21.390625 20.328125 13.890625 \r\nQ 24.171875 6.390625 31.78125 6.390625 \r\nQ 39.453125 6.390625 43.28125 13.890625 \r\nQ 47.125 21.390625 47.125 36.375 \r\nQ 47.125 51.421875 43.28125 58.90625 \r\nQ 39.453125 66.40625 31.78125 66.40625 \r\nz\r\nM 31.78125 74.21875 \r\nQ 44.046875 74.21875 50.515625 64.515625 \r\nQ 56.984375 54.828125 56.984375 36.375 \r\nQ 56.984375 17.96875 50.515625 8.265625 \r\nQ 44.046875 -1.421875 31.78125 -1.421875 \r\nQ 19.53125 -1.421875 13.0625 8.265625 \r\nQ 6.59375 17.96875 6.59375 36.375 \r\nQ 6.59375 54.828125 13.0625 64.515625 \r\nQ 19.53125 74.21875 31.78125 74.21875 \r\nz\r\n\" id=\"DejaVuSans-30\"/>\r\n      </defs>\r\n      <g transform=\"translate(55.818182 242.738437)scale(0.1 -0.1)\">\r\n       <use xlink:href=\"#DejaVuSans-30\"/>\r\n      </g>\r\n     </g>\r\n    </g>\r\n    <g id=\"xtick_2\">\r\n     <g id=\"line2d_3\">\r\n      <path clip-path=\"url(#pa872275dba)\" d=\"M 97.23607 228.14 \r\nL 97.23607 10.7 \r\n\" style=\"fill:none;stroke:#b0b0b0;stroke-linecap:square;stroke-width:0.8;\"/>\r\n     </g>\r\n     <g id=\"line2d_4\">\r\n      <g>\r\n       <use style=\"stroke:#000000;stroke-width:0.8;\" x=\"97.23607\" xlink:href=\"#m73b603dad3\" y=\"228.14\"/>\r\n      </g>\r\n     </g>\r\n     <g id=\"text_2\">\r\n      <!-- 25 -->\r\n      <defs>\r\n       <path d=\"M 19.1875 8.296875 \r\nL 53.609375 8.296875 \r\nL 53.609375 0 \r\nL 7.328125 0 \r\nL 7.328125 8.296875 \r\nQ 12.9375 14.109375 22.625 23.890625 \r\nQ 32.328125 33.6875 34.8125 36.53125 \r\nQ 39.546875 41.84375 41.421875 45.53125 \r\nQ 43.3125 49.21875 43.3125 52.78125 \r\nQ 43.3125 58.59375 39.234375 62.25 \r\nQ 35.15625 65.921875 28.609375 65.921875 \r\nQ 23.96875 65.921875 18.8125 64.3125 \r\nQ 13.671875 62.703125 7.8125 59.421875 \r\nL 7.8125 69.390625 \r\nQ 13.765625 71.78125 18.9375 73 \r\nQ 24.125 74.21875 28.421875 74.21875 \r\nQ 39.75 74.21875 46.484375 68.546875 \r\nQ 53.21875 62.890625 53.21875 53.421875 \r\nQ 53.21875 48.921875 51.53125 44.890625 \r\nQ 49.859375 40.875 45.40625 35.40625 \r\nQ 44.1875 33.984375 37.640625 27.21875 \r\nQ 31.109375 20.453125 19.1875 8.296875 \r\nz\r\n\" id=\"DejaVuSans-32\"/>\r\n       <path d=\"M 10.796875 72.90625 \r\nL 49.515625 72.90625 \r\nL 49.515625 64.59375 \r\nL 19.828125 64.59375 \r\nL 19.828125 46.734375 \r\nQ 21.96875 47.46875 24.109375 47.828125 \r\nQ 26.265625 48.1875 28.421875 48.1875 \r\nQ 40.625 48.1875 47.75 41.5 \r\nQ 54.890625 34.8125 54.890625 23.390625 \r\nQ 54.890625 11.625 47.5625 5.09375 \r\nQ 40.234375 -1.421875 26.90625 -1.421875 \r\nQ 22.3125 -1.421875 17.546875 -0.640625 \r\nQ 12.796875 0.140625 7.71875 1.703125 \r\nL 7.71875 11.625 \r\nQ 12.109375 9.234375 16.796875 8.0625 \r\nQ 21.484375 6.890625 26.703125 6.890625 \r\nQ 35.15625 6.890625 40.078125 11.328125 \r\nQ 45.015625 15.765625 45.015625 23.390625 \r\nQ 45.015625 31 40.078125 35.4375 \r\nQ 35.15625 39.890625 26.703125 39.890625 \r\nQ 22.75 39.890625 18.8125 39.015625 \r\nQ 14.890625 38.140625 10.796875 36.28125 \r\nz\r\n\" id=\"DejaVuSans-35\"/>\r\n      </defs>\r\n      <g transform=\"translate(90.87357 242.738437)scale(0.1 -0.1)\">\r\n       <use xlink:href=\"#DejaVuSans-32\"/>\r\n       <use x=\"63.623047\" xlink:href=\"#DejaVuSans-35\"/>\r\n      </g>\r\n     </g>\r\n    </g>\r\n    <g id=\"xtick_3\">\r\n     <g id=\"line2d_5\">\r\n      <path clip-path=\"url(#pa872275dba)\" d=\"M 135.472707 228.14 \r\nL 135.472707 10.7 \r\n\" style=\"fill:none;stroke:#b0b0b0;stroke-linecap:square;stroke-width:0.8;\"/>\r\n     </g>\r\n     <g id=\"line2d_6\">\r\n      <g>\r\n       <use style=\"stroke:#000000;stroke-width:0.8;\" x=\"135.472707\" xlink:href=\"#m73b603dad3\" y=\"228.14\"/>\r\n      </g>\r\n     </g>\r\n     <g id=\"text_3\">\r\n      <!-- 50 -->\r\n      <g transform=\"translate(129.110207 242.738437)scale(0.1 -0.1)\">\r\n       <use xlink:href=\"#DejaVuSans-35\"/>\r\n       <use x=\"63.623047\" xlink:href=\"#DejaVuSans-30\"/>\r\n      </g>\r\n     </g>\r\n    </g>\r\n    <g id=\"xtick_4\">\r\n     <g id=\"line2d_7\">\r\n      <path clip-path=\"url(#pa872275dba)\" d=\"M 173.709345 228.14 \r\nL 173.709345 10.7 \r\n\" style=\"fill:none;stroke:#b0b0b0;stroke-linecap:square;stroke-width:0.8;\"/>\r\n     </g>\r\n     <g id=\"line2d_8\">\r\n      <g>\r\n       <use style=\"stroke:#000000;stroke-width:0.8;\" x=\"173.709345\" xlink:href=\"#m73b603dad3\" y=\"228.14\"/>\r\n      </g>\r\n     </g>\r\n     <g id=\"text_4\">\r\n      <!-- 75 -->\r\n      <defs>\r\n       <path d=\"M 8.203125 72.90625 \r\nL 55.078125 72.90625 \r\nL 55.078125 68.703125 \r\nL 28.609375 0 \r\nL 18.3125 0 \r\nL 43.21875 64.59375 \r\nL 8.203125 64.59375 \r\nz\r\n\" id=\"DejaVuSans-37\"/>\r\n      </defs>\r\n      <g transform=\"translate(167.346845 242.738437)scale(0.1 -0.1)\">\r\n       <use xlink:href=\"#DejaVuSans-37\"/>\r\n       <use x=\"63.623047\" xlink:href=\"#DejaVuSans-35\"/>\r\n      </g>\r\n     </g>\r\n    </g>\r\n    <g id=\"xtick_5\">\r\n     <g id=\"line2d_9\">\r\n      <path clip-path=\"url(#pa872275dba)\" d=\"M 211.945983 228.14 \r\nL 211.945983 10.7 \r\n\" style=\"fill:none;stroke:#b0b0b0;stroke-linecap:square;stroke-width:0.8;\"/>\r\n     </g>\r\n     <g id=\"line2d_10\">\r\n      <g>\r\n       <use style=\"stroke:#000000;stroke-width:0.8;\" x=\"211.945983\" xlink:href=\"#m73b603dad3\" y=\"228.14\"/>\r\n      </g>\r\n     </g>\r\n     <g id=\"text_5\">\r\n      <!-- 100 -->\r\n      <defs>\r\n       <path d=\"M 12.40625 8.296875 \r\nL 28.515625 8.296875 \r\nL 28.515625 63.921875 \r\nL 10.984375 60.40625 \r\nL 10.984375 69.390625 \r\nL 28.421875 72.90625 \r\nL 38.28125 72.90625 \r\nL 38.28125 8.296875 \r\nL 54.390625 8.296875 \r\nL 54.390625 0 \r\nL 12.40625 0 \r\nz\r\n\" id=\"DejaVuSans-31\"/>\r\n      </defs>\r\n      <g transform=\"translate(202.402233 242.738437)scale(0.1 -0.1)\">\r\n       <use xlink:href=\"#DejaVuSans-31\"/>\r\n       <use x=\"63.623047\" xlink:href=\"#DejaVuSans-30\"/>\r\n       <use x=\"127.246094\" xlink:href=\"#DejaVuSans-30\"/>\r\n      </g>\r\n     </g>\r\n    </g>\r\n    <g id=\"xtick_6\">\r\n     <g id=\"line2d_11\">\r\n      <path clip-path=\"url(#pa872275dba)\" d=\"M 250.18262 228.14 \r\nL 250.18262 10.7 \r\n\" style=\"fill:none;stroke:#b0b0b0;stroke-linecap:square;stroke-width:0.8;\"/>\r\n     </g>\r\n     <g id=\"line2d_12\">\r\n      <g>\r\n       <use style=\"stroke:#000000;stroke-width:0.8;\" x=\"250.18262\" xlink:href=\"#m73b603dad3\" y=\"228.14\"/>\r\n      </g>\r\n     </g>\r\n     <g id=\"text_6\">\r\n      <!-- 125 -->\r\n      <g transform=\"translate(240.63887 242.738437)scale(0.1 -0.1)\">\r\n       <use xlink:href=\"#DejaVuSans-31\"/>\r\n       <use x=\"63.623047\" xlink:href=\"#DejaVuSans-32\"/>\r\n       <use x=\"127.246094\" xlink:href=\"#DejaVuSans-35\"/>\r\n      </g>\r\n     </g>\r\n    </g>\r\n    <g id=\"xtick_7\">\r\n     <g id=\"line2d_13\">\r\n      <path clip-path=\"url(#pa872275dba)\" d=\"M 288.419258 228.14 \r\nL 288.419258 10.7 \r\n\" style=\"fill:none;stroke:#b0b0b0;stroke-linecap:square;stroke-width:0.8;\"/>\r\n     </g>\r\n     <g id=\"line2d_14\">\r\n      <g>\r\n       <use style=\"stroke:#000000;stroke-width:0.8;\" x=\"288.419258\" xlink:href=\"#m73b603dad3\" y=\"228.14\"/>\r\n      </g>\r\n     </g>\r\n     <g id=\"text_7\">\r\n      <!-- 150 -->\r\n      <g transform=\"translate(278.875508 242.738437)scale(0.1 -0.1)\">\r\n       <use xlink:href=\"#DejaVuSans-31\"/>\r\n       <use x=\"63.623047\" xlink:href=\"#DejaVuSans-35\"/>\r\n       <use x=\"127.246094\" xlink:href=\"#DejaVuSans-30\"/>\r\n      </g>\r\n     </g>\r\n    </g>\r\n    <g id=\"xtick_8\">\r\n     <g id=\"line2d_15\">\r\n      <path clip-path=\"url(#pa872275dba)\" d=\"M 326.655896 228.14 \r\nL 326.655896 10.7 \r\n\" style=\"fill:none;stroke:#b0b0b0;stroke-linecap:square;stroke-width:0.8;\"/>\r\n     </g>\r\n     <g id=\"line2d_16\">\r\n      <g>\r\n       <use style=\"stroke:#000000;stroke-width:0.8;\" x=\"326.655896\" xlink:href=\"#m73b603dad3\" y=\"228.14\"/>\r\n      </g>\r\n     </g>\r\n     <g id=\"text_8\">\r\n      <!-- 175 -->\r\n      <g transform=\"translate(317.112146 242.738437)scale(0.1 -0.1)\">\r\n       <use xlink:href=\"#DejaVuSans-31\"/>\r\n       <use x=\"63.623047\" xlink:href=\"#DejaVuSans-37\"/>\r\n       <use x=\"127.246094\" xlink:href=\"#DejaVuSans-35\"/>\r\n      </g>\r\n     </g>\r\n    </g>\r\n    <g id=\"xtick_9\">\r\n     <g id=\"line2d_17\">\r\n      <path clip-path=\"url(#pa872275dba)\" d=\"M 364.892534 228.14 \r\nL 364.892534 10.7 \r\n\" style=\"fill:none;stroke:#b0b0b0;stroke-linecap:square;stroke-width:0.8;\"/>\r\n     </g>\r\n     <g id=\"line2d_18\">\r\n      <g>\r\n       <use style=\"stroke:#000000;stroke-width:0.8;\" x=\"364.892534\" xlink:href=\"#m73b603dad3\" y=\"228.14\"/>\r\n      </g>\r\n     </g>\r\n     <g id=\"text_9\">\r\n      <!-- 200 -->\r\n      <g transform=\"translate(355.348784 242.738437)scale(0.1 -0.1)\">\r\n       <use xlink:href=\"#DejaVuSans-32\"/>\r\n       <use x=\"63.623047\" xlink:href=\"#DejaVuSans-30\"/>\r\n       <use x=\"127.246094\" xlink:href=\"#DejaVuSans-30\"/>\r\n      </g>\r\n     </g>\r\n    </g>\r\n    <g id=\"text_10\">\r\n     <!-- epochs -->\r\n     <defs>\r\n      <path d=\"M 56.203125 29.59375 \r\nL 56.203125 25.203125 \r\nL 14.890625 25.203125 \r\nQ 15.484375 15.921875 20.484375 11.0625 \r\nQ 25.484375 6.203125 34.421875 6.203125 \r\nQ 39.59375 6.203125 44.453125 7.46875 \r\nQ 49.3125 8.734375 54.109375 11.28125 \r\nL 54.109375 2.78125 \r\nQ 49.265625 0.734375 44.1875 -0.34375 \r\nQ 39.109375 -1.421875 33.890625 -1.421875 \r\nQ 20.796875 -1.421875 13.15625 6.1875 \r\nQ 5.515625 13.8125 5.515625 26.8125 \r\nQ 5.515625 40.234375 12.765625 48.109375 \r\nQ 20.015625 56 32.328125 56 \r\nQ 43.359375 56 49.78125 48.890625 \r\nQ 56.203125 41.796875 56.203125 29.59375 \r\nz\r\nM 47.21875 32.234375 \r\nQ 47.125 39.59375 43.09375 43.984375 \r\nQ 39.0625 48.390625 32.421875 48.390625 \r\nQ 24.90625 48.390625 20.390625 44.140625 \r\nQ 15.875 39.890625 15.1875 32.171875 \r\nz\r\n\" id=\"DejaVuSans-65\"/>\r\n      <path d=\"M 18.109375 8.203125 \r\nL 18.109375 -20.796875 \r\nL 9.078125 -20.796875 \r\nL 9.078125 54.6875 \r\nL 18.109375 54.6875 \r\nL 18.109375 46.390625 \r\nQ 20.953125 51.265625 25.265625 53.625 \r\nQ 29.59375 56 35.59375 56 \r\nQ 45.5625 56 51.78125 48.09375 \r\nQ 58.015625 40.1875 58.015625 27.296875 \r\nQ 58.015625 14.40625 51.78125 6.484375 \r\nQ 45.5625 -1.421875 35.59375 -1.421875 \r\nQ 29.59375 -1.421875 25.265625 0.953125 \r\nQ 20.953125 3.328125 18.109375 8.203125 \r\nz\r\nM 48.6875 27.296875 \r\nQ 48.6875 37.203125 44.609375 42.84375 \r\nQ 40.53125 48.484375 33.40625 48.484375 \r\nQ 26.265625 48.484375 22.1875 42.84375 \r\nQ 18.109375 37.203125 18.109375 27.296875 \r\nQ 18.109375 17.390625 22.1875 11.75 \r\nQ 26.265625 6.109375 33.40625 6.109375 \r\nQ 40.53125 6.109375 44.609375 11.75 \r\nQ 48.6875 17.390625 48.6875 27.296875 \r\nz\r\n\" id=\"DejaVuSans-70\"/>\r\n      <path d=\"M 30.609375 48.390625 \r\nQ 23.390625 48.390625 19.1875 42.75 \r\nQ 14.984375 37.109375 14.984375 27.296875 \r\nQ 14.984375 17.484375 19.15625 11.84375 \r\nQ 23.34375 6.203125 30.609375 6.203125 \r\nQ 37.796875 6.203125 41.984375 11.859375 \r\nQ 46.1875 17.53125 46.1875 27.296875 \r\nQ 46.1875 37.015625 41.984375 42.703125 \r\nQ 37.796875 48.390625 30.609375 48.390625 \r\nz\r\nM 30.609375 56 \r\nQ 42.328125 56 49.015625 48.375 \r\nQ 55.71875 40.765625 55.71875 27.296875 \r\nQ 55.71875 13.875 49.015625 6.21875 \r\nQ 42.328125 -1.421875 30.609375 -1.421875 \r\nQ 18.84375 -1.421875 12.171875 6.21875 \r\nQ 5.515625 13.875 5.515625 27.296875 \r\nQ 5.515625 40.765625 12.171875 48.375 \r\nQ 18.84375 56 30.609375 56 \r\nz\r\n\" id=\"DejaVuSans-6f\"/>\r\n      <path d=\"M 48.78125 52.59375 \r\nL 48.78125 44.1875 \r\nQ 44.96875 46.296875 41.140625 47.34375 \r\nQ 37.3125 48.390625 33.40625 48.390625 \r\nQ 24.65625 48.390625 19.8125 42.84375 \r\nQ 14.984375 37.3125 14.984375 27.296875 \r\nQ 14.984375 17.28125 19.8125 11.734375 \r\nQ 24.65625 6.203125 33.40625 6.203125 \r\nQ 37.3125 6.203125 41.140625 7.25 \r\nQ 44.96875 8.296875 48.78125 10.40625 \r\nL 48.78125 2.09375 \r\nQ 45.015625 0.34375 40.984375 -0.53125 \r\nQ 36.96875 -1.421875 32.421875 -1.421875 \r\nQ 20.0625 -1.421875 12.78125 6.34375 \r\nQ 5.515625 14.109375 5.515625 27.296875 \r\nQ 5.515625 40.671875 12.859375 48.328125 \r\nQ 20.21875 56 33.015625 56 \r\nQ 37.15625 56 41.109375 55.140625 \r\nQ 45.0625 54.296875 48.78125 52.59375 \r\nz\r\n\" id=\"DejaVuSans-63\"/>\r\n      <path d=\"M 54.890625 33.015625 \r\nL 54.890625 0 \r\nL 45.90625 0 \r\nL 45.90625 32.71875 \r\nQ 45.90625 40.484375 42.875 44.328125 \r\nQ 39.84375 48.1875 33.796875 48.1875 \r\nQ 26.515625 48.1875 22.3125 43.546875 \r\nQ 18.109375 38.921875 18.109375 30.90625 \r\nL 18.109375 0 \r\nL 9.078125 0 \r\nL 9.078125 75.984375 \r\nL 18.109375 75.984375 \r\nL 18.109375 46.1875 \r\nQ 21.34375 51.125 25.703125 53.5625 \r\nQ 30.078125 56 35.796875 56 \r\nQ 45.21875 56 50.046875 50.171875 \r\nQ 54.890625 44.34375 54.890625 33.015625 \r\nz\r\n\" id=\"DejaVuSans-68\"/>\r\n      <path d=\"M 44.28125 53.078125 \r\nL 44.28125 44.578125 \r\nQ 40.484375 46.53125 36.375 47.5 \r\nQ 32.28125 48.484375 27.875 48.484375 \r\nQ 21.1875 48.484375 17.84375 46.4375 \r\nQ 14.5 44.390625 14.5 40.28125 \r\nQ 14.5 37.15625 16.890625 35.375 \r\nQ 19.28125 33.59375 26.515625 31.984375 \r\nL 29.59375 31.296875 \r\nQ 39.15625 29.25 43.1875 25.515625 \r\nQ 47.21875 21.78125 47.21875 15.09375 \r\nQ 47.21875 7.46875 41.1875 3.015625 \r\nQ 35.15625 -1.421875 24.609375 -1.421875 \r\nQ 20.21875 -1.421875 15.453125 -0.5625 \r\nQ 10.6875 0.296875 5.421875 2 \r\nL 5.421875 11.28125 \r\nQ 10.40625 8.6875 15.234375 7.390625 \r\nQ 20.0625 6.109375 24.8125 6.109375 \r\nQ 31.15625 6.109375 34.5625 8.28125 \r\nQ 37.984375 10.453125 37.984375 14.40625 \r\nQ 37.984375 18.0625 35.515625 20.015625 \r\nQ 33.0625 21.96875 24.703125 23.78125 \r\nL 21.578125 24.515625 \r\nQ 13.234375 26.265625 9.515625 29.90625 \r\nQ 5.8125 33.546875 5.8125 39.890625 \r\nQ 5.8125 47.609375 11.28125 51.796875 \r\nQ 16.75 56 26.8125 56 \r\nQ 31.78125 56 36.171875 55.265625 \r\nQ 40.578125 54.546875 44.28125 53.078125 \r\nz\r\n\" id=\"DejaVuSans-73\"/>\r\n     </defs>\r\n     <g transform=\"translate(193.348438 256.416562)scale(0.1 -0.1)\">\r\n      <use xlink:href=\"#DejaVuSans-65\"/>\r\n      <use x=\"61.523438\" xlink:href=\"#DejaVuSans-70\"/>\r\n      <use x=\"125\" xlink:href=\"#DejaVuSans-6f\"/>\r\n      <use x=\"186.181641\" xlink:href=\"#DejaVuSans-63\"/>\r\n      <use x=\"241.162109\" xlink:href=\"#DejaVuSans-68\"/>\r\n      <use x=\"304.541016\" xlink:href=\"#DejaVuSans-73\"/>\r\n     </g>\r\n    </g>\r\n   </g>\r\n   <g id=\"matplotlib.axis_2\">\r\n    <g id=\"ytick_1\">\r\n     <g id=\"line2d_19\">\r\n      <path clip-path=\"url(#pa872275dba)\" d=\"M 43.78125 203.050308 \r\nL 378.58125 203.050308 \r\n\" style=\"fill:none;stroke:#b0b0b0;stroke-linecap:square;stroke-width:0.8;\"/>\r\n     </g>\r\n     <g id=\"line2d_20\">\r\n      <defs>\r\n       <path d=\"M 0 0 \r\nL -3.5 0 \r\n\" id=\"m254c78d426\" style=\"stroke:#000000;stroke-width:0.8;\"/>\r\n      </defs>\r\n      <g>\r\n       <use style=\"stroke:#000000;stroke-width:0.8;\" x=\"43.78125\" xlink:href=\"#m254c78d426\" y=\"203.050308\"/>\r\n      </g>\r\n     </g>\r\n     <g id=\"text_11\">\r\n      <!-- 0.2 -->\r\n      <defs>\r\n       <path d=\"M 10.6875 12.40625 \r\nL 21 12.40625 \r\nL 21 0 \r\nL 10.6875 0 \r\nz\r\n\" id=\"DejaVuSans-2e\"/>\r\n      </defs>\r\n      <g transform=\"translate(20.878125 206.849527)scale(0.1 -0.1)\">\r\n       <use xlink:href=\"#DejaVuSans-30\"/>\r\n       <use x=\"63.623047\" xlink:href=\"#DejaVuSans-2e\"/>\r\n       <use x=\"95.410156\" xlink:href=\"#DejaVuSans-32\"/>\r\n      </g>\r\n     </g>\r\n    </g>\r\n    <g id=\"ytick_2\">\r\n     <g id=\"line2d_21\">\r\n      <path clip-path=\"url(#pa872275dba)\" d=\"M 43.78125 177.309438 \r\nL 378.58125 177.309438 \r\n\" style=\"fill:none;stroke:#b0b0b0;stroke-linecap:square;stroke-width:0.8;\"/>\r\n     </g>\r\n     <g id=\"line2d_22\">\r\n      <g>\r\n       <use style=\"stroke:#000000;stroke-width:0.8;\" x=\"43.78125\" xlink:href=\"#m254c78d426\" y=\"177.309438\"/>\r\n      </g>\r\n     </g>\r\n     <g id=\"text_12\">\r\n      <!-- 0.4 -->\r\n      <defs>\r\n       <path d=\"M 37.796875 64.3125 \r\nL 12.890625 25.390625 \r\nL 37.796875 25.390625 \r\nz\r\nM 35.203125 72.90625 \r\nL 47.609375 72.90625 \r\nL 47.609375 25.390625 \r\nL 58.015625 25.390625 \r\nL 58.015625 17.1875 \r\nL 47.609375 17.1875 \r\nL 47.609375 0 \r\nL 37.796875 0 \r\nL 37.796875 17.1875 \r\nL 4.890625 17.1875 \r\nL 4.890625 26.703125 \r\nz\r\n\" id=\"DejaVuSans-34\"/>\r\n      </defs>\r\n      <g transform=\"translate(20.878125 181.108657)scale(0.1 -0.1)\">\r\n       <use xlink:href=\"#DejaVuSans-30\"/>\r\n       <use x=\"63.623047\" xlink:href=\"#DejaVuSans-2e\"/>\r\n       <use x=\"95.410156\" xlink:href=\"#DejaVuSans-34\"/>\r\n      </g>\r\n     </g>\r\n    </g>\r\n    <g id=\"ytick_3\">\r\n     <g id=\"line2d_23\">\r\n      <path clip-path=\"url(#pa872275dba)\" d=\"M 43.78125 151.568568 \r\nL 378.58125 151.568568 \r\n\" style=\"fill:none;stroke:#b0b0b0;stroke-linecap:square;stroke-width:0.8;\"/>\r\n     </g>\r\n     <g id=\"line2d_24\">\r\n      <g>\r\n       <use style=\"stroke:#000000;stroke-width:0.8;\" x=\"43.78125\" xlink:href=\"#m254c78d426\" y=\"151.568568\"/>\r\n      </g>\r\n     </g>\r\n     <g id=\"text_13\">\r\n      <!-- 0.6 -->\r\n      <defs>\r\n       <path d=\"M 33.015625 40.375 \r\nQ 26.375 40.375 22.484375 35.828125 \r\nQ 18.609375 31.296875 18.609375 23.390625 \r\nQ 18.609375 15.53125 22.484375 10.953125 \r\nQ 26.375 6.390625 33.015625 6.390625 \r\nQ 39.65625 6.390625 43.53125 10.953125 \r\nQ 47.40625 15.53125 47.40625 23.390625 \r\nQ 47.40625 31.296875 43.53125 35.828125 \r\nQ 39.65625 40.375 33.015625 40.375 \r\nz\r\nM 52.59375 71.296875 \r\nL 52.59375 62.3125 \r\nQ 48.875 64.0625 45.09375 64.984375 \r\nQ 41.3125 65.921875 37.59375 65.921875 \r\nQ 27.828125 65.921875 22.671875 59.328125 \r\nQ 17.53125 52.734375 16.796875 39.40625 \r\nQ 19.671875 43.65625 24.015625 45.921875 \r\nQ 28.375 48.1875 33.59375 48.1875 \r\nQ 44.578125 48.1875 50.953125 41.515625 \r\nQ 57.328125 34.859375 57.328125 23.390625 \r\nQ 57.328125 12.15625 50.6875 5.359375 \r\nQ 44.046875 -1.421875 33.015625 -1.421875 \r\nQ 20.359375 -1.421875 13.671875 8.265625 \r\nQ 6.984375 17.96875 6.984375 36.375 \r\nQ 6.984375 53.65625 15.1875 63.9375 \r\nQ 23.390625 74.21875 37.203125 74.21875 \r\nQ 40.921875 74.21875 44.703125 73.484375 \r\nQ 48.484375 72.75 52.59375 71.296875 \r\nz\r\n\" id=\"DejaVuSans-36\"/>\r\n      </defs>\r\n      <g transform=\"translate(20.878125 155.367786)scale(0.1 -0.1)\">\r\n       <use xlink:href=\"#DejaVuSans-30\"/>\r\n       <use x=\"63.623047\" xlink:href=\"#DejaVuSans-2e\"/>\r\n       <use x=\"95.410156\" xlink:href=\"#DejaVuSans-36\"/>\r\n      </g>\r\n     </g>\r\n    </g>\r\n    <g id=\"ytick_4\">\r\n     <g id=\"line2d_25\">\r\n      <path clip-path=\"url(#pa872275dba)\" d=\"M 43.78125 125.827698 \r\nL 378.58125 125.827698 \r\n\" style=\"fill:none;stroke:#b0b0b0;stroke-linecap:square;stroke-width:0.8;\"/>\r\n     </g>\r\n     <g id=\"line2d_26\">\r\n      <g>\r\n       <use style=\"stroke:#000000;stroke-width:0.8;\" x=\"43.78125\" xlink:href=\"#m254c78d426\" y=\"125.827698\"/>\r\n      </g>\r\n     </g>\r\n     <g id=\"text_14\">\r\n      <!-- 0.8 -->\r\n      <defs>\r\n       <path d=\"M 31.78125 34.625 \r\nQ 24.75 34.625 20.71875 30.859375 \r\nQ 16.703125 27.09375 16.703125 20.515625 \r\nQ 16.703125 13.921875 20.71875 10.15625 \r\nQ 24.75 6.390625 31.78125 6.390625 \r\nQ 38.8125 6.390625 42.859375 10.171875 \r\nQ 46.921875 13.96875 46.921875 20.515625 \r\nQ 46.921875 27.09375 42.890625 30.859375 \r\nQ 38.875 34.625 31.78125 34.625 \r\nz\r\nM 21.921875 38.8125 \r\nQ 15.578125 40.375 12.03125 44.71875 \r\nQ 8.5 49.078125 8.5 55.328125 \r\nQ 8.5 64.0625 14.71875 69.140625 \r\nQ 20.953125 74.21875 31.78125 74.21875 \r\nQ 42.671875 74.21875 48.875 69.140625 \r\nQ 55.078125 64.0625 55.078125 55.328125 \r\nQ 55.078125 49.078125 51.53125 44.71875 \r\nQ 48 40.375 41.703125 38.8125 \r\nQ 48.828125 37.15625 52.796875 32.3125 \r\nQ 56.78125 27.484375 56.78125 20.515625 \r\nQ 56.78125 9.90625 50.3125 4.234375 \r\nQ 43.84375 -1.421875 31.78125 -1.421875 \r\nQ 19.734375 -1.421875 13.25 4.234375 \r\nQ 6.78125 9.90625 6.78125 20.515625 \r\nQ 6.78125 27.484375 10.78125 32.3125 \r\nQ 14.796875 37.15625 21.921875 38.8125 \r\nz\r\nM 18.3125 54.390625 \r\nQ 18.3125 48.734375 21.84375 45.5625 \r\nQ 25.390625 42.390625 31.78125 42.390625 \r\nQ 38.140625 42.390625 41.71875 45.5625 \r\nQ 45.3125 48.734375 45.3125 54.390625 \r\nQ 45.3125 60.0625 41.71875 63.234375 \r\nQ 38.140625 66.40625 31.78125 66.40625 \r\nQ 25.390625 66.40625 21.84375 63.234375 \r\nQ 18.3125 60.0625 18.3125 54.390625 \r\nz\r\n\" id=\"DejaVuSans-38\"/>\r\n      </defs>\r\n      <g transform=\"translate(20.878125 129.626916)scale(0.1 -0.1)\">\r\n       <use xlink:href=\"#DejaVuSans-30\"/>\r\n       <use x=\"63.623047\" xlink:href=\"#DejaVuSans-2e\"/>\r\n       <use x=\"95.410156\" xlink:href=\"#DejaVuSans-38\"/>\r\n      </g>\r\n     </g>\r\n    </g>\r\n    <g id=\"ytick_5\">\r\n     <g id=\"line2d_27\">\r\n      <path clip-path=\"url(#pa872275dba)\" d=\"M 43.78125 100.086827 \r\nL 378.58125 100.086827 \r\n\" style=\"fill:none;stroke:#b0b0b0;stroke-linecap:square;stroke-width:0.8;\"/>\r\n     </g>\r\n     <g id=\"line2d_28\">\r\n      <g>\r\n       <use style=\"stroke:#000000;stroke-width:0.8;\" x=\"43.78125\" xlink:href=\"#m254c78d426\" y=\"100.086827\"/>\r\n      </g>\r\n     </g>\r\n     <g id=\"text_15\">\r\n      <!-- 1.0 -->\r\n      <g transform=\"translate(20.878125 103.886046)scale(0.1 -0.1)\">\r\n       <use xlink:href=\"#DejaVuSans-31\"/>\r\n       <use x=\"63.623047\" xlink:href=\"#DejaVuSans-2e\"/>\r\n       <use x=\"95.410156\" xlink:href=\"#DejaVuSans-30\"/>\r\n      </g>\r\n     </g>\r\n    </g>\r\n    <g id=\"ytick_6\">\r\n     <g id=\"line2d_29\">\r\n      <path clip-path=\"url(#pa872275dba)\" d=\"M 43.78125 74.345957 \r\nL 378.58125 74.345957 \r\n\" style=\"fill:none;stroke:#b0b0b0;stroke-linecap:square;stroke-width:0.8;\"/>\r\n     </g>\r\n     <g id=\"line2d_30\">\r\n      <g>\r\n       <use style=\"stroke:#000000;stroke-width:0.8;\" x=\"43.78125\" xlink:href=\"#m254c78d426\" y=\"74.345957\"/>\r\n      </g>\r\n     </g>\r\n     <g id=\"text_16\">\r\n      <!-- 1.2 -->\r\n      <g transform=\"translate(20.878125 78.145176)scale(0.1 -0.1)\">\r\n       <use xlink:href=\"#DejaVuSans-31\"/>\r\n       <use x=\"63.623047\" xlink:href=\"#DejaVuSans-2e\"/>\r\n       <use x=\"95.410156\" xlink:href=\"#DejaVuSans-32\"/>\r\n      </g>\r\n     </g>\r\n    </g>\r\n    <g id=\"ytick_7\">\r\n     <g id=\"line2d_31\">\r\n      <path clip-path=\"url(#pa872275dba)\" d=\"M 43.78125 48.605087 \r\nL 378.58125 48.605087 \r\n\" style=\"fill:none;stroke:#b0b0b0;stroke-linecap:square;stroke-width:0.8;\"/>\r\n     </g>\r\n     <g id=\"line2d_32\">\r\n      <g>\r\n       <use style=\"stroke:#000000;stroke-width:0.8;\" x=\"43.78125\" xlink:href=\"#m254c78d426\" y=\"48.605087\"/>\r\n      </g>\r\n     </g>\r\n     <g id=\"text_17\">\r\n      <!-- 1.4 -->\r\n      <g transform=\"translate(20.878125 52.404306)scale(0.1 -0.1)\">\r\n       <use xlink:href=\"#DejaVuSans-31\"/>\r\n       <use x=\"63.623047\" xlink:href=\"#DejaVuSans-2e\"/>\r\n       <use x=\"95.410156\" xlink:href=\"#DejaVuSans-34\"/>\r\n      </g>\r\n     </g>\r\n    </g>\r\n    <g id=\"ytick_8\">\r\n     <g id=\"line2d_33\">\r\n      <path clip-path=\"url(#pa872275dba)\" d=\"M 43.78125 22.864217 \r\nL 378.58125 22.864217 \r\n\" style=\"fill:none;stroke:#b0b0b0;stroke-linecap:square;stroke-width:0.8;\"/>\r\n     </g>\r\n     <g id=\"line2d_34\">\r\n      <g>\r\n       <use style=\"stroke:#000000;stroke-width:0.8;\" x=\"43.78125\" xlink:href=\"#m254c78d426\" y=\"22.864217\"/>\r\n      </g>\r\n     </g>\r\n     <g id=\"text_18\">\r\n      <!-- 1.6 -->\r\n      <g transform=\"translate(20.878125 26.663436)scale(0.1 -0.1)\">\r\n       <use xlink:href=\"#DejaVuSans-31\"/>\r\n       <use x=\"63.623047\" xlink:href=\"#DejaVuSans-2e\"/>\r\n       <use x=\"95.410156\" xlink:href=\"#DejaVuSans-36\"/>\r\n      </g>\r\n     </g>\r\n    </g>\r\n    <g id=\"text_19\">\r\n     <!-- error -->\r\n     <defs>\r\n      <path d=\"M 41.109375 46.296875 \r\nQ 39.59375 47.171875 37.8125 47.578125 \r\nQ 36.03125 48 33.890625 48 \r\nQ 26.265625 48 22.1875 43.046875 \r\nQ 18.109375 38.09375 18.109375 28.8125 \r\nL 18.109375 0 \r\nL 9.078125 0 \r\nL 9.078125 54.6875 \r\nL 18.109375 54.6875 \r\nL 18.109375 46.1875 \r\nQ 20.953125 51.171875 25.484375 53.578125 \r\nQ 30.03125 56 36.53125 56 \r\nQ 37.453125 56 38.578125 55.875 \r\nQ 39.703125 55.765625 41.0625 55.515625 \r\nz\r\n\" id=\"DejaVuSans-72\"/>\r\n     </defs>\r\n     <g transform=\"translate(14.798438 131.72)rotate(-90)scale(0.1 -0.1)\">\r\n      <use xlink:href=\"#DejaVuSans-65\"/>\r\n      <use x=\"61.523438\" xlink:href=\"#DejaVuSans-72\"/>\r\n      <use x=\"102.621094\" xlink:href=\"#DejaVuSans-72\"/>\r\n      <use x=\"143.703125\" xlink:href=\"#DejaVuSans-6f\"/>\r\n      <use x=\"204.884766\" xlink:href=\"#DejaVuSans-72\"/>\r\n     </g>\r\n    </g>\r\n   </g>\r\n   <g id=\"line2d_35\">\r\n    <path clip-path=\"url(#pa872275dba)\" d=\"M 58.999432 104.287804 \r\nL 60.528897 162.631903 \r\nL 62.058363 166.536549 \r\nL 63.587828 170.102915 \r\nL 65.117294 173.265912 \r\nL 66.646759 176.09128 \r\nL 68.176225 178.607848 \r\nL 69.70569 180.858017 \r\nL 71.235156 182.874937 \r\nL 72.764621 184.689919 \r\nL 75.823552 187.815971 \r\nL 78.882483 190.405958 \r\nL 81.941414 192.583506 \r\nL 85.000345 194.438844 \r\nL 88.059276 196.038571 \r\nL 91.118208 197.432526 \r\nL 95.706604 199.218035 \r\nL 100.295001 200.717402 \r\nL 104.883397 201.995909 \r\nL 111.001259 203.436038 \r\nL 117.119121 204.643699 \r\nL 124.766449 205.906881 \r\nL 133.943242 207.153081 \r\nL 144.6495 208.335894 \r\nL 156.885224 209.430289 \r\nL 170.650414 210.426316 \r\nL 187.474535 211.403624 \r\nL 207.357586 212.319809 \r\nL 231.829034 213.203412 \r\nL 260.888879 214.016127 \r\nL 296.066586 214.771363 \r\nL 340.421086 215.490673 \r\nL 363.363068 215.791571 \r\nL 363.363068 215.791571 \r\n\" style=\"fill:none;stroke:#1f77b4;stroke-linecap:square;stroke-width:1.5;\"/>\r\n   </g>\r\n   <g id=\"line2d_36\">\r\n    <path clip-path=\"url(#pa872275dba)\" d=\"M 58.999432 101.284283 \r\nL 60.528897 176.285358 \r\nL 62.058363 177.671392 \r\nL 71.235156 183.908352 \r\nL 75.823552 187.109395 \r\nL 80.411949 190.055568 \r\nL 85.000345 192.700885 \r\nL 89.588742 195.039486 \r\nL 94.177139 197.090545 \r\nL 98.765535 198.885197 \r\nL 103.353932 200.457576 \r\nL 109.471794 202.263746 \r\nL 115.589656 203.798069 \r\nL 121.707518 205.113831 \r\nL 129.354845 206.514034 \r\nL 137.002173 207.699548 \r\nL 146.178966 208.902258 \r\nL 156.885224 210.072665 \r\nL 169.120948 211.179305 \r\nL 182.886138 212.205348 \r\nL 199.710259 213.228938 \r\nL 219.59331 214.203334 \r\nL 242.535293 215.103438 \r\nL 270.065672 215.962113 \r\nL 303.713913 216.786045 \r\nL 345.009482 217.568937 \r\nL 363.363068 217.858597 \r\nL 363.363068 217.858597 \r\n\" style=\"fill:none;stroke:#ff7f0e;stroke-linecap:square;stroke-width:1.5;\"/>\r\n   </g>\r\n   <g id=\"line2d_37\">\r\n    <path clip-path=\"url(#pa872275dba)\" d=\"M 58.999432 20.583636 \r\nL 60.528897 151.877721 \r\nL 62.058363 173.310812 \r\nL 63.587828 175.323402 \r\nL 68.176225 180.145227 \r\nL 72.764621 185.162258 \r\nL 75.823552 188.211296 \r\nL 78.882483 190.952755 \r\nL 81.941414 193.380067 \r\nL 85.000345 195.511221 \r\nL 88.059276 197.376745 \r\nL 91.118208 199.010867 \r\nL 94.177139 200.446585 \r\nL 98.765535 202.29161 \r\nL 103.353932 203.838135 \r\nL 107.942328 205.149668 \r\nL 114.06019 206.614495 \r\nL 120.178052 207.829708 \r\nL 127.82538 209.085616 \r\nL 135.472707 210.121787 \r\nL 144.6495 211.149934 \r\nL 155.355759 212.130153 \r\nL 169.120948 213.141303 \r\nL 184.415604 214.032897 \r\nL 202.76919 214.879664 \r\nL 225.711172 215.704397 \r\nL 253.241552 216.464889 \r\nL 288.419258 217.199865 \r\nL 332.773758 217.88641 \r\nL 363.363068 218.256364 \r\nL 363.363068 218.256364 \r\n\" style=\"fill:none;stroke:#2ca02c;stroke-linecap:square;stroke-width:1.5;\"/>\r\n   </g>\r\n   <g id=\"patch_3\">\r\n    <path d=\"M 43.78125 228.14 \r\nL 43.78125 10.7 \r\n\" style=\"fill:none;stroke:#000000;stroke-linecap:square;stroke-linejoin:miter;stroke-width:0.8;\"/>\r\n   </g>\r\n   <g id=\"patch_4\">\r\n    <path d=\"M 378.58125 228.14 \r\nL 378.58125 10.7 \r\n\" style=\"fill:none;stroke:#000000;stroke-linecap:square;stroke-linejoin:miter;stroke-width:0.8;\"/>\r\n   </g>\r\n   <g id=\"patch_5\">\r\n    <path d=\"M 43.78125 228.14 \r\nL 378.58125 228.14 \r\n\" style=\"fill:none;stroke:#000000;stroke-linecap:square;stroke-linejoin:miter;stroke-width:0.8;\"/>\r\n   </g>\r\n   <g id=\"patch_6\">\r\n    <path d=\"M 43.78125 10.7 \r\nL 378.58125 10.7 \r\n\" style=\"fill:none;stroke:#000000;stroke-linecap:square;stroke-linejoin:miter;stroke-width:0.8;\"/>\r\n   </g>\r\n  </g>\r\n </g>\r\n <defs>\r\n  <clipPath id=\"pa872275dba\">\r\n   <rect height=\"217.44\" width=\"334.8\" x=\"43.78125\" y=\"10.7\"/>\r\n  </clipPath>\r\n </defs>\r\n</svg>\r\n",
      "image/png": "[encoded data removed]"
     },
     "metadata": {}
    }
   ],
   "source": [
    "# plt.plot(range(epochs), error[:, 0])\n",
    "plt.plot(range(epochs), error)\n",
    "plt.xlabel('epochs')\n",
    "plt.ylabel('error')\n",
    "plt.grid()\n",
    "plt.show()"
   ]
  },
  {
   "cell_type": "code",
   "execution_count": 316,
   "metadata": {},
   "outputs": [
    {
     "output_type": "execute_result",
     "data": {
      "text/plain": [
       "array([0.10100363, 0.08494337, 0.08185282], dtype=float32)"
      ]
     },
     "metadata": {},
     "execution_count": 316
    }
   ],
   "source": [
    "error[-1]"
   ]
  },
  {
   "cell_type": "code",
   "execution_count": 317,
   "metadata": {},
   "outputs": [
    {
     "output_type": "execute_result",
     "data": {
      "text/plain": [
       "array([ 6.083278  ,  5.6668723 , -6.84766994, -8.68048536, -2.52661005,\n",
       "        4.4039227 , -5.406254  , -5.81138983,  4.64934753])"
      ]
     },
     "metadata": {},
     "execution_count": 317
    }
   ],
   "source": [
    "weight"
   ]
  },
  {
   "cell_type": "code",
   "execution_count": 318,
   "metadata": {},
   "outputs": [
    {
     "output_type": "execute_result",
     "data": {
      "text/plain": [
       "   Hogwarts House  Muggle Studies     Charms  Divination  Flying  \\\n",
       "0             NaN     -365.151850 -244.48172       7.996  -13.62   \n",
       "1             NaN      522.580486 -231.29200       6.349  -26.26   \n",
       "2             NaN     -630.073207 -252.99343       4.619  200.15   \n",
       "3             NaN     -449.179806 -244.01660         NaN  -11.15   \n",
       "4             NaN     -449.732166 -243.99806       4.886   -7.12   \n",
       "\n",
       "   History of Magic  Transfiguration  \n",
       "0          4.207691      1046.742736  \n",
       "1          6.460017      1048.053878  \n",
       "2         -5.565818       936.437358  \n",
       "3               NaN      1043.397718  \n",
       "4          2.876347      1051.377936  "
      ],
      "text/html": "<div>\n<style>\n    .dataframe thead tr:only-child th {\n        text-align: right;\n    }\n\n    .dataframe thead th {\n        text-align: left;\n    }\n\n    .dataframe tbody tr th {\n        vertical-align: top;\n    }\n</style>\n<table border=\"1\" class=\"dataframe\">\n  <thead>\n    <tr style=\"text-align: right;\">\n      <th></th>\n      <th>Hogwarts House</th>\n      <th>Muggle Studies</th>\n      <th>Charms</th>\n      <th>Divination</th>\n      <th>Flying</th>\n      <th>History of Magic</th>\n      <th>Transfiguration</th>\n    </tr>\n  </thead>\n  <tbody>\n    <tr>\n      <th>0</th>\n      <td>NaN</td>\n      <td>-365.151850</td>\n      <td>-244.48172</td>\n      <td>7.996</td>\n      <td>-13.62</td>\n      <td>4.207691</td>\n      <td>1046.742736</td>\n    </tr>\n    <tr>\n      <th>1</th>\n      <td>NaN</td>\n      <td>522.580486</td>\n      <td>-231.29200</td>\n      <td>6.349</td>\n      <td>-26.26</td>\n      <td>6.460017</td>\n      <td>1048.053878</td>\n    </tr>\n    <tr>\n      <th>2</th>\n      <td>NaN</td>\n      <td>-630.073207</td>\n      <td>-252.99343</td>\n      <td>4.619</td>\n      <td>200.15</td>\n      <td>-5.565818</td>\n      <td>936.437358</td>\n    </tr>\n    <tr>\n      <th>3</th>\n      <td>NaN</td>\n      <td>-449.179806</td>\n      <td>-244.01660</td>\n      <td>NaN</td>\n      <td>-11.15</td>\n      <td>NaN</td>\n      <td>1043.397718</td>\n    </tr>\n    <tr>\n      <th>4</th>\n      <td>NaN</td>\n      <td>-449.732166</td>\n      <td>-243.99806</td>\n      <td>4.886</td>\n      <td>-7.12</td>\n      <td>2.876347</td>\n      <td>1051.377936</td>\n    </tr>\n  </tbody>\n</table>\n</div>"
     },
     "metadata": {},
     "execution_count": 318
    }
   ],
   "source": [
    "# df_test = df_test.loc[1450:1454]\n",
    "# df_test\n",
    "df_test = pd.read_csv('datasets/dataset_test.csv')\n",
    "df_test = df_test[['Hogwarts House', 'Muggle Studies', 'Charms', 'Divination', 'Flying', 'History of Magic', 'Transfiguration']]\n",
    "df_test.head()"
   ]
  },
  {
   "cell_type": "code",
   "execution_count": 320,
   "metadata": {
    "tags": []
   },
   "outputs": [
    {
     "output_type": "stream",
     "name": "stdout",
     "text": [
      "0 100.0\n"
     ]
    }
   ],
   "source": [
    "count = 0\n",
    "probability = np.zeros(target.size, np.float32)\n",
    "for i in range(df_test.shape[0]):\n",
    "    instance = df_test.iloc[i].values[1:].astype(np.float32)\n",
    "    for j in range(instance.size):\n",
    "        # if np.isnan(instance[j]): ###\n",
    "        #     instance[j] = 0 ###\n",
    "        instance[j] = normalization(instance[j], *x_minmax[j])\n",
    "    for i in range(probability.size):\n",
    "        probability[i] =\\\n",
    "            sigmoid(np.concatenate([instance[(i * 2):(i * 2 + 2)], [1]]) @\\\n",
    "                                    weight[(i * 3):(i * 3 + 3)])\n",
    "            \n",
    "        # if np.isnan(probability[i]):\n",
    "        #     probability[i] = 0\n",
    "    # print(probability)\n",
    "\n",
    "    if np.all([i < 0.5 for i in probability]):\n",
    "        house = 'Hufflepuff'\n",
    "    else:\n",
    "        try:\n",
    "            house = target[np.where(probability == np.max(probability))[0][0]]\n",
    "        except:\n",
    "            house = 'NaN'\n",
    "    if house == 'NaN':\n",
    "        count += 1\n",
    "print(count, 100 - count / df_test.shape[0] * 100)"
   ]
  },
  {
   "cell_type": "code",
   "execution_count": null,
   "metadata": {},
   "outputs": [],
   "source": []
  }
 ]
}